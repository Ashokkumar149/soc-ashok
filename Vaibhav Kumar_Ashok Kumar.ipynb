{
 "cells": [
  {
   "cell_type": "code",
   "execution_count": 157,
   "id": "a784d371",
   "metadata": {},
   "outputs": [],
   "source": [
    "import numpy as np\n",
    "import pandas as pd"
   ]
  },
  {
   "cell_type": "markdown",
   "id": "199bd516",
   "metadata": {},
   "source": [
    "## Numpy"
   ]
  },
  {
   "cell_type": "code",
   "execution_count": 158,
   "id": "bbe5890e",
   "metadata": {},
   "outputs": [],
   "source": [
    "# Question 1a\n",
    "def find_common_elements(A,B):\n",
    "    return np.intersect1d(A, B)"
   ]
  },
  {
   "cell_type": "code",
   "execution_count": 159,
   "id": "81e7498d",
   "metadata": {},
   "outputs": [
    {
     "data": {
      "text/plain": [
       "False"
      ]
     },
     "execution_count": 159,
     "metadata": {},
     "output_type": "execute_result"
    }
   ],
   "source": [
    "# Question 1b\n",
    "# we are considering 10 element array (arbitrary)\n",
    "A=np.random.rand(10,1)\n",
    "B=np.random.rand(10,1)\n",
    "np.array_equal(A,B)"
   ]
  },
  {
   "cell_type": "code",
   "execution_count": 160,
   "id": "98ecc980",
   "metadata": {},
   "outputs": [
    {
     "data": {
      "text/plain": [
       "array([[-0.6763477 ],\n",
       "       [-0.35910412],\n",
       "       [-0.24001604],\n",
       "       [-0.38584212],\n",
       "       [-0.38589958],\n",
       "       [-0.20435635],\n",
       "       [-0.45977551],\n",
       "       [-0.39483743],\n",
       "       [-0.24919337],\n",
       "       [-0.57138906]])"
      ]
     },
     "execution_count": 160,
     "metadata": {},
     "output_type": "execute_result"
    }
   ],
   "source": [
    "# Question 1c\n",
    "np.add(A, B, out=B)\n",
    "np.divide(A, -2, out=A)\n",
    "np.multiply(A, B, out=A)"
   ]
  },
  {
   "cell_type": "code",
   "execution_count": 39,
   "id": "a4c10905",
   "metadata": {},
   "outputs": [],
   "source": [
    "# Question 1d\n",
    "def cartesian_to_polar(A):\n",
    "    X=A[:,0]\n",
    "    Y=A[:,1]\n",
    "    R=np.zeros([A.shape[0],2])\n",
    "    R[:,0]=np.sqrt(X*X+Y*Y)\n",
    "    R[:,1]=np.arctan(Y/X)\n",
    "    return R"
   ]
  },
  {
   "cell_type": "markdown",
   "id": "d5a342b1",
   "metadata": {},
   "source": [
    "## Pandas"
   ]
  },
  {
   "cell_type": "code",
   "execution_count": 83,
   "id": "a54e0eb2",
   "metadata": {},
   "outputs": [],
   "source": [
    "#Question 2a\n",
    "def unique_rows(df):\n",
    "    return df.drop_duplicates().shape[0]"
   ]
  },
  {
   "cell_type": "code",
   "execution_count": 92,
   "id": "67ae5119",
   "metadata": {},
   "outputs": [
    {
     "data": {
      "text/html": [
       "<div>\n",
       "<style scoped>\n",
       "    .dataframe tbody tr th:only-of-type {\n",
       "        vertical-align: middle;\n",
       "    }\n",
       "\n",
       "    .dataframe tbody tr th {\n",
       "        vertical-align: top;\n",
       "    }\n",
       "\n",
       "    .dataframe thead th {\n",
       "        text-align: right;\n",
       "    }\n",
       "</style>\n",
       "<table border=\"1\" class=\"dataframe\">\n",
       "  <thead>\n",
       "    <tr style=\"text-align: right;\">\n",
       "      <th></th>\n",
       "      <th>0</th>\n",
       "      <th>1</th>\n",
       "      <th>2</th>\n",
       "    </tr>\n",
       "  </thead>\n",
       "  <tbody>\n",
       "    <tr>\n",
       "      <th>0</th>\n",
       "      <td>0.308967</td>\n",
       "      <td>-0.175154</td>\n",
       "      <td>-0.133812</td>\n",
       "    </tr>\n",
       "    <tr>\n",
       "      <th>1</th>\n",
       "      <td>0.244530</td>\n",
       "      <td>0.129670</td>\n",
       "      <td>-0.374201</td>\n",
       "    </tr>\n",
       "    <tr>\n",
       "      <th>2</th>\n",
       "      <td>0.083275</td>\n",
       "      <td>-0.360052</td>\n",
       "      <td>0.276777</td>\n",
       "    </tr>\n",
       "    <tr>\n",
       "      <th>3</th>\n",
       "      <td>-0.261851</td>\n",
       "      <td>0.106142</td>\n",
       "      <td>0.155709</td>\n",
       "    </tr>\n",
       "    <tr>\n",
       "      <th>4</th>\n",
       "      <td>-0.191624</td>\n",
       "      <td>0.190888</td>\n",
       "      <td>0.000736</td>\n",
       "    </tr>\n",
       "  </tbody>\n",
       "</table>\n",
       "</div>"
      ],
      "text/plain": [
       "          0         1         2\n",
       "0  0.308967 -0.175154 -0.133812\n",
       "1  0.244530  0.129670 -0.374201\n",
       "2  0.083275 -0.360052  0.276777\n",
       "3 -0.261851  0.106142  0.155709\n",
       "4 -0.191624  0.190888  0.000736"
      ]
     },
     "execution_count": 92,
     "metadata": {},
     "output_type": "execute_result"
    }
   ],
   "source": [
    "# Question 2b\n",
    "df = pd.DataFrame(np.random.random(size=(5, 3)))\n",
    "df.sub(df.mean(axis=1), axis=0)"
   ]
  },
  {
   "cell_type": "code",
   "execution_count": 156,
   "id": "bef28c34",
   "metadata": {},
   "outputs": [
    {
     "data": {
      "text/plain": [
       "grps\n",
       "a    409\n",
       "b    156\n",
       "c    345\n",
       "Name: vals, dtype: int64"
      ]
     },
     "execution_count": 156,
     "metadata": {},
     "output_type": "execute_result"
    }
   ],
   "source": [
    "# Question 2d\n",
    "df1 = pd.DataFrame({'grps': list('aaabbcaabcccbbc'), \n",
    "                   'vals': [12,345,3,1,45,14,4,52,54,23,235,21,57,3,87]})\n",
    "df1.groupby('grps')['vals'].apply(lambda grps: grps.nlargest(3).sum())"
   ]
  }
 ],
 "metadata": {
  "kernelspec": {
   "display_name": "Python 3 (ipykernel)",
   "language": "python",
   "name": "python3"
  },
  "language_info": {
   "codemirror_mode": {
    "name": "ipython",
    "version": 3
   },
   "file_extension": ".py",
   "mimetype": "text/x-python",
   "name": "python",
   "nbconvert_exporter": "python",
   "pygments_lexer": "ipython3",
   "version": "3.9.7"
  }
 },
 "nbformat": 4,
 "nbformat_minor": 5
}
